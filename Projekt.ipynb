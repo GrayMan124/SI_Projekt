{
 "cells": [
  {
   "cell_type": "code",
   "execution_count": 35,
   "id": "plastic-lesbian",
   "metadata": {},
   "outputs": [],
   "source": [
    "import numpy as np\n",
    "import pandas as pd\n",
    "import matplotlib.pyplot as plt\n",
    "import statsmodels.api as sm"
   ]
  },
  {
   "cell_type": "code",
   "execution_count": 3,
   "id": "prostate-while",
   "metadata": {},
   "outputs": [],
   "source": [
    "data= pd.read_csv(\"prices.csv\")\n",
    "data2=pd.read_csv(\"prices-split-adjusted.csv\")\n"
   ]
  },
  {
   "cell_type": "code",
   "execution_count": 4,
   "id": "broad-knife",
   "metadata": {},
   "outputs": [
    {
     "data": {
      "text/html": [
       "<div>\n",
       "<style scoped>\n",
       "    .dataframe tbody tr th:only-of-type {\n",
       "        vertical-align: middle;\n",
       "    }\n",
       "\n",
       "    .dataframe tbody tr th {\n",
       "        vertical-align: top;\n",
       "    }\n",
       "\n",
       "    .dataframe thead th {\n",
       "        text-align: right;\n",
       "    }\n",
       "</style>\n",
       "<table border=\"1\" class=\"dataframe\">\n",
       "  <thead>\n",
       "    <tr style=\"text-align: right;\">\n",
       "      <th></th>\n",
       "      <th>date</th>\n",
       "      <th>symbol</th>\n",
       "      <th>open</th>\n",
       "      <th>close</th>\n",
       "      <th>low</th>\n",
       "      <th>high</th>\n",
       "      <th>volume</th>\n",
       "    </tr>\n",
       "  </thead>\n",
       "  <tbody>\n",
       "    <tr>\n",
       "      <th>0</th>\n",
       "      <td>2016-01-05 00:00:00</td>\n",
       "      <td>WLTW</td>\n",
       "      <td>123.430000</td>\n",
       "      <td>125.839996</td>\n",
       "      <td>122.309998</td>\n",
       "      <td>126.250000</td>\n",
       "      <td>2163600.0</td>\n",
       "    </tr>\n",
       "    <tr>\n",
       "      <th>1</th>\n",
       "      <td>2016-01-06 00:00:00</td>\n",
       "      <td>WLTW</td>\n",
       "      <td>125.239998</td>\n",
       "      <td>119.980003</td>\n",
       "      <td>119.940002</td>\n",
       "      <td>125.540001</td>\n",
       "      <td>2386400.0</td>\n",
       "    </tr>\n",
       "    <tr>\n",
       "      <th>2</th>\n",
       "      <td>2016-01-07 00:00:00</td>\n",
       "      <td>WLTW</td>\n",
       "      <td>116.379997</td>\n",
       "      <td>114.949997</td>\n",
       "      <td>114.930000</td>\n",
       "      <td>119.739998</td>\n",
       "      <td>2489500.0</td>\n",
       "    </tr>\n",
       "    <tr>\n",
       "      <th>3</th>\n",
       "      <td>2016-01-08 00:00:00</td>\n",
       "      <td>WLTW</td>\n",
       "      <td>115.480003</td>\n",
       "      <td>116.620003</td>\n",
       "      <td>113.500000</td>\n",
       "      <td>117.440002</td>\n",
       "      <td>2006300.0</td>\n",
       "    </tr>\n",
       "    <tr>\n",
       "      <th>4</th>\n",
       "      <td>2016-01-11 00:00:00</td>\n",
       "      <td>WLTW</td>\n",
       "      <td>117.010002</td>\n",
       "      <td>114.970001</td>\n",
       "      <td>114.089996</td>\n",
       "      <td>117.330002</td>\n",
       "      <td>1408600.0</td>\n",
       "    </tr>\n",
       "  </tbody>\n",
       "</table>\n",
       "</div>"
      ],
      "text/plain": [
       "                  date symbol        open       close         low        high  \\\n",
       "0  2016-01-05 00:00:00   WLTW  123.430000  125.839996  122.309998  126.250000   \n",
       "1  2016-01-06 00:00:00   WLTW  125.239998  119.980003  119.940002  125.540001   \n",
       "2  2016-01-07 00:00:00   WLTW  116.379997  114.949997  114.930000  119.739998   \n",
       "3  2016-01-08 00:00:00   WLTW  115.480003  116.620003  113.500000  117.440002   \n",
       "4  2016-01-11 00:00:00   WLTW  117.010002  114.970001  114.089996  117.330002   \n",
       "\n",
       "      volume  \n",
       "0  2163600.0  \n",
       "1  2386400.0  \n",
       "2  2489500.0  \n",
       "3  2006300.0  \n",
       "4  1408600.0  "
      ]
     },
     "execution_count": 4,
     "metadata": {},
     "output_type": "execute_result"
    }
   ],
   "source": [
    "data.head()"
   ]
  },
  {
   "cell_type": "code",
   "execution_count": 5,
   "id": "automotive-prevention",
   "metadata": {},
   "outputs": [
    {
     "data": {
      "text/plain": [
       "array(['WLTW', 'A', 'AAL', 'AAP', 'AAPL', 'ABC', 'ABT', 'ACN', 'ADBE',\n",
       "       'ADI', 'ADM', 'ADP', 'ADS', 'ADSK', 'AEE', 'AEP', 'AES', 'AET',\n",
       "       'AFL', 'AGN', 'AIG', 'AIZ', 'AJG', 'AKAM', 'ALB', 'ALK', 'ALL',\n",
       "       'ALXN', 'AMAT', 'AME', 'AMG', 'AMGN', 'AMP', 'AMT', 'AMZN', 'AN',\n",
       "       'ANTM', 'AON', 'APA', 'APC', 'APD', 'APH', 'ARNC', 'ATVI', 'AVB',\n",
       "       'AVGO', 'AVY', 'AWK', 'AXP', 'AYI', 'AZO', 'BA', 'BAC', 'BAX',\n",
       "       'BBBY', 'BBT', 'BBY', 'BCR', 'BDX', 'BEN', 'BHI', 'BIIB', 'BK',\n",
       "       'BLK', 'BLL', 'BMY', 'BSX', 'BWA', 'BXP', 'C', 'CA', 'CAG', 'CAH',\n",
       "       'CAT', 'CB', 'CBG', 'CBS', 'CCI', 'CCL', 'CELG', 'CERN', 'CF',\n",
       "       'CHD', 'CHK', 'CHRW', 'CI', 'CINF', 'CL', 'CLX', 'CMA', 'CMCSA',\n",
       "       'CME', 'CMG', 'CMI', 'CMS', 'CNC', 'CNP', 'COF', 'COG', 'COH',\n",
       "       'COL', 'COO', 'COP', 'COST', 'CPB', 'CRM', 'CSCO', 'CSX', 'CTAS',\n",
       "       'CTL', 'CTSH', 'CTXS', 'CVS', 'CVX', 'CXO', 'D', 'DAL', 'DD', 'DE',\n",
       "       'DFS', 'DG', 'DGX', 'DHI', 'DHR', 'DIS', 'DISCA', 'DISCK', 'DLR',\n",
       "       'DLTR', 'DNB', 'DOV', 'DOW', 'DPS', 'DRI', 'DTE', 'DUK', 'DVA',\n",
       "       'DVN', 'EA', 'EBAY', 'ECL', 'ED', 'EFX', 'EIX', 'EL', 'EMN', 'EMR',\n",
       "       'ENDP', 'EOG', 'EQIX', 'EQR', 'EQT', 'ES', 'ESRX', 'ESS', 'ETFC',\n",
       "       'ETN', 'ETR', 'EW', 'EXC', 'EXPD', 'EXPE', 'EXR', 'F', 'FAST',\n",
       "       'FCX', 'FDX', 'FE', 'FFIV', 'FIS', 'FISV', 'FITB', 'FL', 'FLIR',\n",
       "       'FLR', 'FLS', 'FMC', 'FOX', 'FOXA', 'FRT', 'FSLR', 'FTI', 'FTR',\n",
       "       'GD', 'GE', 'GGP', 'GILD', 'GIS', 'GLW', 'GOOG', 'GOOGL', 'GPC',\n",
       "       'GPN', 'GPS', 'GRMN', 'GS', 'GT', 'GWW', 'HAL', 'HAR', 'HAS',\n",
       "       'HBAN', 'HBI', 'HCN', 'HCP', 'HD', 'HES', 'HIG', 'HOG', 'HOLX',\n",
       "       'HON', 'HP', 'HPQ', 'HRB', 'HRL', 'HRS', 'HSIC', 'HST', 'HSY',\n",
       "       'HUM', 'IBM', 'ICE', 'IDXX', 'IFF', 'ILMN', 'INTC', 'INTU', 'IP',\n",
       "       'IPG', 'IR', 'IRM', 'ISRG', 'ITW', 'IVZ', 'JBHT', 'JCI', 'JEC',\n",
       "       'JNJ', 'JNPR', 'JPM', 'JWN', 'K', 'KEY', 'KIM', 'KLAC', 'KMB',\n",
       "       'KMX', 'KO', 'KR', 'KSS', 'KSU', 'L', 'LB', 'LEG', 'LEN', 'LH',\n",
       "       'LKQ', 'LLL', 'LLTC', 'LLY', 'LMT', 'LNC', 'LNT', 'LOW', 'LRCX',\n",
       "       'LUK', 'LUV', 'LVLT', 'M', 'MA', 'MAA', 'MAC', 'MAR', 'MAS', 'MAT',\n",
       "       'MCD', 'MCHP', 'MCK', 'MCO', 'MDLZ', 'MDT', 'MET', 'MHK', 'MJN',\n",
       "       'MKC', 'MLM', 'MMC', 'MMM', 'MNST', 'MO', 'MON', 'MOS', 'MRK',\n",
       "       'MRO', 'MSFT', 'MSI', 'MTB', 'MTD', 'MU', 'MUR', 'MYL', 'NBL',\n",
       "       'NDAQ', 'NEE', 'NEM', 'NFLX', 'NFX', 'NI', 'NKE', 'NOC', 'NOV',\n",
       "       'NRG', 'NSC', 'NTAP', 'NTRS', 'NUE', 'NVDA', 'NWL', 'O', 'OKE',\n",
       "       'OMC', 'ORCL', 'ORLY', 'OXY', 'PAYX', 'PBCT', 'PBI', 'PCAR', 'PCG',\n",
       "       'PCLN', 'PDCO', 'PEG', 'PEP', 'PFE', 'PFG', 'PG', 'PGR', 'PH',\n",
       "       'PHM', 'PKI', 'PLD', 'PM', 'PNC', 'PNR', 'PNW', 'PPG', 'PPL',\n",
       "       'PRGO', 'PRU', 'PSA', 'PVH', 'PWR', 'PX', 'PXD', 'QCOM', 'R',\n",
       "       'RAI', 'RCL', 'REGN', 'RF', 'RHI', 'RHT', 'RIG', 'RL', 'ROK',\n",
       "       'ROP', 'ROST', 'RRC', 'RSG', 'RTN', 'SBUX', 'SCG', 'SCHW', 'SE',\n",
       "       'SEE', 'SHW', 'SIG', 'SJM', 'SLB', 'SLG', 'SNA', 'SNI', 'SO',\n",
       "       'SPG', 'SPGI', 'SPLS', 'SRCL', 'SRE', 'STI', 'STT', 'STX', 'STZ',\n",
       "       'SWK', 'SWKS', 'SWN', 'SYK', 'SYMC', 'SYY', 'T', 'TAP', 'TDC',\n",
       "       'TEL', 'TGNA', 'TGT', 'TIF', 'TJX', 'TMK', 'TMO', 'TROW', 'TRV',\n",
       "       'TSCO', 'TSN', 'TSO', 'TSS', 'TWX', 'TXN', 'TXT', 'UAA', 'UAL',\n",
       "       'UDR', 'UHS', 'ULTA', 'UNH', 'UNM', 'UNP', 'UPS', 'URBN', 'URI',\n",
       "       'USB', 'UTX', 'V', 'VAR', 'VFC', 'VIAB', 'VLO', 'VMC', 'VNO',\n",
       "       'VRSK', 'VRSN', 'VRTX', 'VTR', 'VZ', 'WAT', 'WBA', 'WDC', 'WEC',\n",
       "       'WFC', 'WFM', 'WHR', 'WM', 'WMB', 'WMT', 'WU', 'WY', 'WYN', 'WYNN',\n",
       "       'XEC', 'XEL', 'XL', 'XLNX', 'XOM', 'XRAY', 'XRX', 'YHOO', 'YUM',\n",
       "       'ZBH', 'ZION', 'AIV', 'CHTR', 'LYB', 'GM', 'ABBV', 'DLPH', 'FB',\n",
       "       'FBHS', 'HCA', 'KMI', 'KORS', 'MPC', 'NLSN', 'PSX', 'TDG', 'TRIP',\n",
       "       'XYL', 'ZTS', 'COTY', 'MNK', 'NWS', 'NWSA', 'EVHC', 'ALLE', 'CFG',\n",
       "       'NAVI', 'QRVO', 'SYF', 'WRK', 'KHC', 'PYPL', 'HPE', 'CSRA', 'FTV'],\n",
       "      dtype=object)"
      ]
     },
     "execution_count": 5,
     "metadata": {},
     "output_type": "execute_result"
    }
   ],
   "source": [
    "data.symbol.unique()"
   ]
  },
  {
   "cell_type": "code",
   "execution_count": 91,
   "id": "exciting-world",
   "metadata": {},
   "outputs": [
    {
     "name": "stderr",
     "output_type": "stream",
     "text": [
      "<ipython-input-91-e68fb2760f5e>:2: SettingWithCopyWarning: \n",
      "A value is trying to be set on a copy of a slice from a DataFrame.\n",
      "Try using .loc[row_indexer,col_indexer] = value instead\n",
      "\n",
      "See the caveats in the documentation: https://pandas.pydata.org/pandas-docs/stable/user_guide/indexing.html#returning-a-view-versus-a-copy\n",
      "  apple_data['date'] = pd.to_datetime(apple_data.date,format='%Y-%m-%d')\n"
     ]
    },
    {
     "data": {
      "text/html": [
       "<div>\n",
       "<style scoped>\n",
       "    .dataframe tbody tr th:only-of-type {\n",
       "        vertical-align: middle;\n",
       "    }\n",
       "\n",
       "    .dataframe tbody tr th {\n",
       "        vertical-align: top;\n",
       "    }\n",
       "\n",
       "    .dataframe thead th {\n",
       "        text-align: right;\n",
       "    }\n",
       "</style>\n",
       "<table border=\"1\" class=\"dataframe\">\n",
       "  <thead>\n",
       "    <tr style=\"text-align: right;\">\n",
       "      <th></th>\n",
       "      <th>date</th>\n",
       "      <th>symbol</th>\n",
       "      <th>open</th>\n",
       "      <th>close</th>\n",
       "      <th>low</th>\n",
       "      <th>high</th>\n",
       "      <th>volume</th>\n",
       "    </tr>\n",
       "    <tr>\n",
       "      <th>date</th>\n",
       "      <th></th>\n",
       "      <th></th>\n",
       "      <th></th>\n",
       "      <th></th>\n",
       "      <th></th>\n",
       "      <th></th>\n",
       "      <th></th>\n",
       "    </tr>\n",
       "  </thead>\n",
       "  <tbody>\n",
       "    <tr>\n",
       "      <th>2013-01-02</th>\n",
       "      <td>2013-01-02</td>\n",
       "      <td>AAPL</td>\n",
       "      <td>79.117142</td>\n",
       "      <td>78.432854</td>\n",
       "      <td>77.375717</td>\n",
       "      <td>79.285713</td>\n",
       "      <td>140129500.0</td>\n",
       "    </tr>\n",
       "    <tr>\n",
       "      <th>2013-01-03</th>\n",
       "      <td>2013-01-03</td>\n",
       "      <td>AAPL</td>\n",
       "      <td>78.268570</td>\n",
       "      <td>77.442856</td>\n",
       "      <td>77.285713</td>\n",
       "      <td>78.524284</td>\n",
       "      <td>88241300.0</td>\n",
       "    </tr>\n",
       "    <tr>\n",
       "      <th>2013-01-04</th>\n",
       "      <td>2013-01-04</td>\n",
       "      <td>AAPL</td>\n",
       "      <td>76.709999</td>\n",
       "      <td>75.285713</td>\n",
       "      <td>75.118568</td>\n",
       "      <td>76.947144</td>\n",
       "      <td>148583400.0</td>\n",
       "    </tr>\n",
       "    <tr>\n",
       "      <th>2013-01-07</th>\n",
       "      <td>2013-01-07</td>\n",
       "      <td>AAPL</td>\n",
       "      <td>74.571426</td>\n",
       "      <td>74.842857</td>\n",
       "      <td>73.599998</td>\n",
       "      <td>75.614288</td>\n",
       "      <td>121039100.0</td>\n",
       "    </tr>\n",
       "    <tr>\n",
       "      <th>2013-01-08</th>\n",
       "      <td>2013-01-08</td>\n",
       "      <td>AAPL</td>\n",
       "      <td>75.601425</td>\n",
       "      <td>75.044289</td>\n",
       "      <td>74.464287</td>\n",
       "      <td>75.984283</td>\n",
       "      <td>114676800.0</td>\n",
       "    </tr>\n",
       "  </tbody>\n",
       "</table>\n",
       "</div>"
      ],
      "text/plain": [
       "                 date symbol       open      close        low       high  \\\n",
       "date                                                                       \n",
       "2013-01-02 2013-01-02   AAPL  79.117142  78.432854  77.375717  79.285713   \n",
       "2013-01-03 2013-01-03   AAPL  78.268570  77.442856  77.285713  78.524284   \n",
       "2013-01-04 2013-01-04   AAPL  76.709999  75.285713  75.118568  76.947144   \n",
       "2013-01-07 2013-01-07   AAPL  74.571426  74.842857  73.599998  75.614288   \n",
       "2013-01-08 2013-01-08   AAPL  75.601425  75.044289  74.464287  75.984283   \n",
       "\n",
       "                 volume  \n",
       "date                     \n",
       "2013-01-02  140129500.0  \n",
       "2013-01-03   88241300.0  \n",
       "2013-01-04  148583400.0  \n",
       "2013-01-07  121039100.0  \n",
       "2013-01-08  114676800.0  "
      ]
     },
     "execution_count": 91,
     "metadata": {},
     "output_type": "execute_result"
    },
    {
     "data": {
      "image/png": "[encoded data removed]",
      "text/plain": [
       "<Figure size 1152x576 with 1 Axes>"
      ]
     },
     "metadata": {
      "needs_background": "light"
     },
     "output_type": "display_data"
    }
   ],
   "source": [
    "apple_data=data2[data2.symbol=='AAPL']\n",
    "apple_data['date'] = pd.to_datetime(apple_data.date,format='%Y-%m-%d')\n",
    "apple_data=apple_data[apple_data.date>\"2013-01-01\"]\n",
    "apple_data.index = apple_data['date']\n",
    "# apple_data=apple_data.drop(['date','symbol'],axis=1)\n",
    "apple_data.head()\n",
    "\n",
    "plt.figure(figsize=(16,8))\n",
    "plt.plot(apple_data['close'])\n",
    "\n",
    "apple_data.head()\n"
   ]
  },
  {
   "cell_type": "code",
   "execution_count": 7,
   "id": "general-ethernet",
   "metadata": {},
   "outputs": [
    {
     "name": "stderr",
     "output_type": "stream",
     "text": [
      "<ipython-input-7-8f444d475668>:2: SettingWithCopyWarning: \n",
      "A value is trying to be set on a copy of a slice from a DataFrame.\n",
      "Try using .loc[row_indexer,col_indexer] = value instead\n",
      "\n",
      "See the caveats in the documentation: https://pandas.pydata.org/pandas-docs/stable/user_guide/indexing.html#returning-a-view-versus-a-copy\n",
      "  coca_data['date'] = pd.to_datetime(coca_data.date,format='%Y-%m-%d')\n"
     ]
    },
    {
     "data": {
      "text/plain": [
       "[<matplotlib.lines.Line2D at 0x1fd02d10fd0>]"
      ]
     },
     "execution_count": 7,
     "metadata": {},
     "output_type": "execute_result"
    },
    {
     "data": {
      "image/png": "[encoded data removed]",
      "text/plain": [
       "<Figure size 1152x576 with 1 Axes>"
      ]
     },
     "metadata": {
      "needs_background": "light"
     },
     "output_type": "display_data"
    }
   ],
   "source": [
    "coca_data=data2[data2.symbol=='KO']\n",
    "coca_data['date'] = pd.to_datetime(coca_data.date,format='%Y-%m-%d')\n",
    "coca_data.index = coca_data['date']\n",
    "\n",
    "coca_data=coca_data[coca_data.date>\"2013-01-01\"]\n",
    "\n",
    "plt.figure(figsize=(16,8))\n",
    "plt.plot(coca_data['close'])"
   ]
  },
  {
   "cell_type": "code",
   "execution_count": 8,
   "id": "restricted-kenya",
   "metadata": {},
   "outputs": [
    {
     "name": "stderr",
     "output_type": "stream",
     "text": [
      "<ipython-input-8-3a1668f84789>:3: SettingWithCopyWarning: \n",
      "A value is trying to be set on a copy of a slice from a DataFrame.\n",
      "Try using .loc[row_indexer,col_indexer] = value instead\n",
      "\n",
      "See the caveats in the documentation: https://pandas.pydata.org/pandas-docs/stable/user_guide/indexing.html#returning-a-view-versus-a-copy\n",
      "  fb_data['date'] = pd.to_datetime(fb_data.date,format='%Y-%m-%d')\n"
     ]
    },
    {
     "data": {
      "text/plain": [
       "[<matplotlib.lines.Line2D at 0x1fd028aca60>]"
      ]
     },
     "execution_count": 8,
     "metadata": {},
     "output_type": "execute_result"
    },
    {
     "data": {
      "image/png": "[encoded data removed]",
      "text/plain": [
       "<Figure size 1152x576 with 1 Axes>"
      ]
     },
     "metadata": {
      "needs_background": "light"
     },
     "output_type": "display_data"
    }
   ],
   "source": [
    "fb_data=data2[data2.symbol=='FB']\n",
    "fb_data.head()\n",
    "fb_data['date'] = pd.to_datetime(fb_data.date,format='%Y-%m-%d')\n",
    "fb_data=fb_data[fb_data.date>\"2013-01-01\"]\n",
    "\n",
    "fb_data.index = fb_data['date']\n",
    "fb_data=fb_data.drop(['date','symbol'],axis=1)\n",
    "\n",
    "plt.figure(figsize=(16,8))\n",
    "plt.plot(fb_data['close'])"
   ]
  },
  {
   "cell_type": "code",
   "execution_count": null,
   "id": "august-hormone",
   "metadata": {},
   "outputs": [],
   "source": []
  },
  {
   "cell_type": "code",
   "execution_count": null,
   "id": "medical-trout",
   "metadata": {},
   "outputs": [],
   "source": []
  },
  {
   "cell_type": "code",
   "execution_count": 175,
   "id": "fundamental-enlargement",
   "metadata": {},
   "outputs": [
    {
     "name": "stderr",
     "output_type": "stream",
     "text": [
      "c:\\users\\aczer\\appdata\\local\\programs\\python\\python39\\lib\\site-packages\\pandas\\core\\indexing.py:692: SettingWithCopyWarning: \n",
      "A value is trying to be set on a copy of a slice from a DataFrame\n",
      "\n",
      "See the caveats in the documentation: https://pandas.pydata.org/pandas-docs/stable/user_guide/indexing.html#returning-a-view-versus-a-copy\n",
      "  iloc._setitem_with_indexer(indexer, value, self.name)\n",
      "c:\\users\\aczer\\appdata\\local\\programs\\python\\python39\\lib\\site-packages\\IPython\\core\\interactiveshell.py:3437: SettingWithCopyWarning: \n",
      "A value is trying to be set on a copy of a slice from a DataFrame\n",
      "\n",
      "See the caveats in the documentation: https://pandas.pydata.org/pandas-docs/stable/user_guide/indexing.html#returning-a-view-versus-a-copy\n",
      "  exec(code_obj, self.user_global_ns, self.user_ns)\n",
      "<ipython-input-175-078a1bd1d858>:12: SettingWithCopyWarning: \n",
      "A value is trying to be set on a copy of a slice from a DataFrame\n",
      "\n",
      "See the caveats in the documentation: https://pandas.pydata.org/pandas-docs/stable/user_guide/indexing.html#returning-a-view-versus-a-copy\n",
      "  X[i]['min']=np.amin(X[i])\n",
      "<ipython-input-175-078a1bd1d858>:13: SettingWithCopyWarning: \n",
      "A value is trying to be set on a copy of a slice from a DataFrame\n",
      "\n",
      "See the caveats in the documentation: https://pandas.pydata.org/pandas-docs/stable/user_guide/indexing.html#returning-a-view-versus-a-copy\n",
      "  X[i]['mean']=np.mean(X[i])\n"
     ]
    }
   ],
   "source": [
    "prediction_days= 30\n",
    "apple_close=apple_data[\"close\"]\n",
    "X=[]\n",
    "Y=[]\n",
    "for i in range(prediction_days,len(apple_data)-4):\n",
    "    X.append(apple_data[i-prediction_days:i]['close']) \n",
    "    max=np.amax(apple_data[i-prediction_days:i]['close'])    \n",
    "    Y.append(apple_close[i+4])\n",
    "    \n",
    "for i in range(974):\n",
    "    X[i]['max']=np.amax(X[i])\n",
    "    X[i]['min']=np.amin(X[i])\n",
    "    X[i]['mean']=np.mean(X[i])\n",
    "X,Y=np.array(X), np.array(Y)"
   ]
  },
  {
   "cell_type": "code",
   "execution_count": 176,
   "id": "radical-large",
   "metadata": {},
   "outputs": [
    {
     "name": "stdout",
     "output_type": "stream",
     "text": [
      "[77.44285586 75.28571314 74.84285743 75.04428857 73.87142943 74.78713986\n",
      " 74.32857514 71.67857357 69.41714471 72.29856871 71.81143186 71.42857357\n",
      " 72.11000057 73.43000029 64.35713957 62.84000014 64.26142886 65.46714014\n",
      " 65.26142886 65.06999971 64.80285643 63.188572   65.405716   65.33571629\n",
      " 66.88857271 67.85428614 68.56143186 66.84285743 66.71571357 66.655716\n",
      " 77.44285586 62.84000014 69.29901826]\n"
     ]
    }
   ],
   "source": [
    "X=np.array(X)\n",
    "print(X[1])"
   ]
  },
  {
   "cell_type": "code",
   "execution_count": 177,
   "id": "greatest-soccer",
   "metadata": {},
   "outputs": [],
   "source": [
    "X_train = X[0:len(apple_data)-205]\n",
    "y_train=Y[0:len(apple_data)-205]\n",
    "X_test=X[len(apple_data)-204:]\n",
    "y_test=Y[len(apple_data)-204:]"
   ]
  },
  {
   "cell_type": "code",
   "execution_count": 178,
   "id": "determined-discrimination",
   "metadata": {},
   "outputs": [],
   "source": [
    "from sklearn import model_selection\n",
    "import scipy.stats as stats\n",
    "import sklearn.linear_model as lm\n",
    "from sklearn import datasets, linear_model\n",
    "from sklearn.preprocessing import PolynomialFeatures\n",
    "from sklearn.pipeline import make_pipeline\n",
    "from sklearn.model_selection import GridSearchCV\n"
   ]
  },
  {
   "cell_type": "code",
   "execution_count": null,
   "id": "naughty-premium",
   "metadata": {},
   "outputs": [],
   "source": [
    "kfold=model_selection.KFold(n_splits=10,shuffle=False)\n",
    "grid1 = GridSearchCV(make_pipeline(PolynomialFeatures(degree=2), linear_model.LinearRegression()),\n",
    "                    param_grid={'polynomialfeatures__degree': [1, 2]},\n",
    "                    cv=kfold,\n",
    "                    refit=True)\n",
    "\n",
    "grid1.fit(X_train,y_train)\n",
    "grid1.best_params_"
   ]
  },
  {
   "cell_type": "code",
   "execution_count": 43,
   "id": "wanted-yeast",
   "metadata": {},
   "outputs": [
    {
     "name": "stderr",
     "output_type": "stream",
     "text": [
      "c:\\users\\aczer\\appdata\\local\\programs\\python\\python39\\lib\\site-packages\\sklearn\\model_selection\\_search.py:918: UserWarning: One or more of the test scores are non-finite: [        nan  0.35481775         nan         nan         nan  0.31877787\n",
      " -0.51677704  0.29253665  0.20908641 -0.48743789]\n",
      "  warnings.warn(\n"
     ]
    },
    {
     "data": {
      "text/plain": [
       "{'polynomialfeatures__degree': 1, 'lasso__alpha': 0.5}"
      ]
     },
     "execution_count": 43,
     "metadata": {},
     "output_type": "execute_result"
    }
   ],
   "source": [
    "from sklearn.linear_model import Lasso\n",
    "from sklearn.model_selection import RandomizedSearchCV\n",
    "\n",
    "grid2= RandomizedSearchCV(make_pipeline(PolynomialFeatures(degree=2),Lasso()),\n",
    "                      [{'polynomialfeatures__degree':[1,2,3],'lasso__alpha':[0.3,0.7,1,5,0.5]}],\n",
    "                     cv=kfold,refit=True,\n",
    "                          n_jobs=10,\n",
    "                         pre_dispatch=20)\n",
    "grid2.fit(X_train,y_train)\n",
    "grid2.best_params_"
   ]
  },
  {
   "cell_type": "code",
   "execution_count": 26,
   "id": "macro-latino",
   "metadata": {},
   "outputs": [
    {
     "name": "stderr",
     "output_type": "stream",
     "text": [
      "c:\\users\\aczer\\appdata\\local\\programs\\python\\python39\\lib\\site-packages\\sklearn\\model_selection\\_search.py:918: UserWarning: One or more of the test scores are non-finite: [ 0.31893474  0.31865            nan         nan         nan  0.32635921\n",
      "  0.3055439   0.34641655 -0.49671246  0.26569811]\n",
      "  warnings.warn(\n"
     ]
    },
    {
     "data": {
      "text/plain": [
       "{'polynomialfeatures__degree': 1, 'elasticnet__alpha': 1}"
      ]
     },
     "execution_count": 26,
     "metadata": {},
     "output_type": "execute_result"
    }
   ],
   "source": [
    "from sklearn.linear_model import ElasticNet\n",
    "\n",
    "grid3= RandomizedSearchCV(make_pipeline(PolynomialFeatures(degree=2),ElasticNet()),\n",
    "                      [{'polynomialfeatures__degree':[1,2,3,4],'elasticnet__alpha':[0.01,0.1,1,10]}],\n",
    "                     cv=kfold,refit=True,\n",
    "                          n_jobs=10,\n",
    "                         pre_dispatch=20)\n",
    "grid3.fit(X_train,y_train)\n",
    "grid3.best_params_"
   ]
  },
  {
   "cell_type": "code",
   "execution_count": 49,
   "id": "dense-basketball",
   "metadata": {},
   "outputs": [
    {
     "name": "stderr",
     "output_type": "stream",
     "text": [
      "c:\\users\\aczer\\appdata\\local\\programs\\python\\python39\\lib\\site-packages\\sklearn\\model_selection\\_search.py:918: UserWarning: One or more of the test scores are non-finite: [        nan         nan         nan         nan  0.3222083   0.32221925\n",
      " -6.75546318  0.32222696         nan  0.32222695]\n",
      "  warnings.warn(\n"
     ]
    },
    {
     "data": {
      "text/plain": [
       "{'ridge__alpha': 0.001, 'polynomialfeatures__degree': 1}"
      ]
     },
     "execution_count": 49,
     "metadata": {},
     "output_type": "execute_result"
    }
   ],
   "source": [
    "from sklearn.linear_model import Ridge\n",
    "grid4= RandomizedSearchCV(make_pipeline(PolynomialFeatures(degree=2),Ridge()),\n",
    "                      [{'polynomialfeatures__degree':[1,2,3,4,5,6],'ridge__alpha':[0.001,0.01,0.1,1,5,10]}],\n",
    "                     cv=kfold,refit=True,\n",
    "                          n_jobs=10,\n",
    "                         pre_dispatch=20)\n",
    "grid4.fit(X_train,y_train)\n",
    "grid4.best_params_"
   ]
  },
  {
   "cell_type": "code",
   "execution_count": 63,
   "id": "roman-efficiency",
   "metadata": {},
   "outputs": [
    {
     "data": {
      "text/plain": [
       "{'n_estimators': 900, 'max_depth': 4}"
      ]
     },
     "execution_count": 63,
     "metadata": {},
     "output_type": "execute_result"
    }
   ],
   "source": [
    "from sklearn.svm import SVR\n",
    "from sklearn.ensemble import RandomForestRegressor\n",
    "\n",
    "grid5= RandomizedSearchCV(RandomForestRegressor(),\n",
    "                      [{'max_depth':[3,4,5,6],'n_estimators':[1000,800,1500,900,1100]}],\n",
    "                     cv=kfold,refit=True,\n",
    "                          n_jobs=10,\n",
    "                         pre_dispatch=20)\n",
    "grid5.fit(X_train,y_train)\n",
    "grid5.best_params_"
   ]
  },
  {
   "cell_type": "code",
   "execution_count": 41,
   "id": "protecting-external",
   "metadata": {},
   "outputs": [
    {
     "data": {
      "text/plain": [
       "{'gamma': 0.001, 'C': 10}"
      ]
     },
     "execution_count": 41,
     "metadata": {},
     "output_type": "execute_result"
    }
   ],
   "source": [
    "grid6= RandomizedSearchCV(SVR(kernel='rbf'),\n",
    "                      [{'C':[0.01,0.1,1,10,100,500],'gamma':[0.001,0.01,0.1,1,10,100,5]}],\n",
    "                     cv=kfold,refit=True,\n",
    "                          n_jobs=10,\n",
    "                         pre_dispatch=20)\n",
    "grid6.fit(X_train,y_train)\n",
    "grid6.best_params_"
   ]
  },
  {
   "cell_type": "code",
   "execution_count": 173,
   "id": "minus-mixer",
   "metadata": {},
   "outputs": [],
   "source": [
    "actaul_apple_data=apple_data[:len(apple_data)-176]\n",
    "actual_apple_data=apple_data['close'].values"
   ]
  },
  {
   "cell_type": "code",
   "execution_count": 174,
   "id": "supported-nurse",
   "metadata": {},
   "outputs": [
    {
     "ename": "NameError",
     "evalue": "name 'grid1' is not defined",
     "output_type": "error",
     "traceback": [
      "\u001b[1;31m---------------------------------------------------------------------------\u001b[0m",
      "\u001b[1;31mNameError\u001b[0m                                 Traceback (most recent call last)",
      "\u001b[1;32m<ipython-input-174-e957ff9e7a9f>\u001b[0m in \u001b[0;36m<module>\u001b[1;34m\u001b[0m\n\u001b[0;32m      1\u001b[0m \u001b[0mmodels\u001b[0m \u001b[1;33m=\u001b[0m \u001b[1;33m[\u001b[0m\u001b[1;33m]\u001b[0m\u001b[1;33m\u001b[0m\u001b[1;33m\u001b[0m\u001b[0m\n\u001b[1;32m----> 2\u001b[1;33m \u001b[0mmodels\u001b[0m\u001b[1;33m.\u001b[0m\u001b[0mappend\u001b[0m\u001b[1;33m(\u001b[0m\u001b[1;33m(\u001b[0m\u001b[1;34m'LR'\u001b[0m\u001b[1;33m,\u001b[0m\u001b[0mgrid1\u001b[0m\u001b[1;33m.\u001b[0m\u001b[0mbest_estimator_\u001b[0m\u001b[1;33m)\u001b[0m\u001b[1;33m)\u001b[0m\u001b[1;33m\u001b[0m\u001b[1;33m\u001b[0m\u001b[0m\n\u001b[0m\u001b[0;32m      3\u001b[0m \u001b[0mmodels\u001b[0m\u001b[1;33m.\u001b[0m\u001b[0mappend\u001b[0m\u001b[1;33m(\u001b[0m\u001b[1;33m(\u001b[0m\u001b[1;34m'Lasso'\u001b[0m\u001b[1;33m,\u001b[0m\u001b[0mgrid2\u001b[0m\u001b[1;33m.\u001b[0m\u001b[0mbest_estimator_\u001b[0m\u001b[1;33m)\u001b[0m\u001b[1;33m)\u001b[0m\u001b[1;33m\u001b[0m\u001b[1;33m\u001b[0m\u001b[0m\n\u001b[0;32m      4\u001b[0m \u001b[0mmodels\u001b[0m\u001b[1;33m.\u001b[0m\u001b[0mappend\u001b[0m\u001b[1;33m(\u001b[0m\u001b[1;33m(\u001b[0m\u001b[1;34m'ElasticNet'\u001b[0m\u001b[1;33m,\u001b[0m\u001b[0mgrid3\u001b[0m\u001b[1;33m.\u001b[0m\u001b[0mbest_estimator_\u001b[0m\u001b[1;33m)\u001b[0m\u001b[1;33m)\u001b[0m\u001b[1;33m\u001b[0m\u001b[1;33m\u001b[0m\u001b[0m\n\u001b[0;32m      5\u001b[0m \u001b[0mmodels\u001b[0m\u001b[1;33m.\u001b[0m\u001b[0mappend\u001b[0m\u001b[1;33m(\u001b[0m\u001b[1;33m(\u001b[0m\u001b[1;34m'Ridge'\u001b[0m\u001b[1;33m,\u001b[0m\u001b[0mgrid4\u001b[0m\u001b[1;33m.\u001b[0m\u001b[0mbest_estimator_\u001b[0m\u001b[1;33m)\u001b[0m\u001b[1;33m)\u001b[0m\u001b[1;33m\u001b[0m\u001b[1;33m\u001b[0m\u001b[0m\n",
      "\u001b[1;31mNameError\u001b[0m: name 'grid1' is not defined"
     ]
    }
   ],
   "source": [
    "models = [] \n",
    "models.append(('LR',grid1.best_estimator_))\n",
    "models.append(('Lasso',grid2.best_estimator_))\n",
    "models.append(('ElasticNet',grid3.best_estimator_))\n",
    "models.append(('Ridge',grid4.best_estimator_))\n",
    "models.append(('RandomForest',grid5.best_estimator_))\n",
    "models.append(('SVR',grid6.best_estimator_))\n",
    "\n",
    "r2 = []\n",
    "explained_variance_score = []\n",
    "median_absolute_error = []\n",
    "mean_squared_error = []\n",
    "mean_absolute_error = []\n",
    "for name, model in models:\n",
    "    r2.append(metrics.r2_score(y_test, model.predict(X_test)))\n",
    "    explained_variance_score.append(metrics.explained_variance_score(y_test, model.predict(X_test)))\n",
    "    median_absolute_error.append( metrics.median_absolute_error(y_test, model.predict(X_test)))\n",
    "    mean_squared_error.append(metrics.mean_squared_error(y_test, model.predict(X_test)))\n",
    "    mean_absolute_error.append(metrics.mean_absolute_error(y_test, model.predict(X_test)))\n",
    "\n",
    "    \n",
    "d = {'r2': r2, \n",
    "     'explained_variance_score': explained_variance_score, \n",
    "     'median_absolute_error': median_absolute_error,\n",
    "     'mean_squared_error' : mean_squared_error,\n",
    "     'mean_absolute_error' : mean_absolute_error,\n",
    "    }\n",
    "df = pd.DataFrame(data=d)\n",
    "df.insert(loc=0, column='Method', value=['LR','Lasso','ElasticNet','Ridge','RandomForest','SVR'])\n",
    "df\n",
    "\n",
    "\n",
    "for name,model in models:\n",
    "    plt.plot(acutal_apple_data,color='black')\n",
    "    predicted_price=model.predict(X_test)\n",
    "    plt.plot(predicted_price,color='blue',label=name)\n",
    "    plt.show"
   ]
  },
  {
   "cell_type": "code",
   "execution_count": 10,
   "id": "wanted-monte",
   "metadata": {},
   "outputs": [
    {
     "name": "stderr",
     "output_type": "stream",
     "text": [
      "<ipython-input-10-27e605fad46f>:12: SettingWithCopyWarning: \n",
      "A value is trying to be set on a copy of a slice from a DataFrame\n",
      "\n",
      "See the caveats in the documentation: https://pandas.pydata.org/pandas-docs/stable/user_guide/indexing.html#returning-a-view-versus-a-copy\n",
      "  X[i]['min']=np.amin(X[i])\n",
      "<ipython-input-10-27e605fad46f>:13: SettingWithCopyWarning: \n",
      "A value is trying to be set on a copy of a slice from a DataFrame\n",
      "\n",
      "See the caveats in the documentation: https://pandas.pydata.org/pandas-docs/stable/user_guide/indexing.html#returning-a-view-versus-a-copy\n",
      "  X[i]['mean']=np.mean(X[i])\n"
     ]
    }
   ],
   "source": [
    "prediction_days= 30\n",
    "fb_close=fb_data[\"close\"]\n",
    "X=[]\n",
    "Y=[]\n",
    "for i in range(prediction_days,len(fb_data)-4):\n",
    "    X.append(fb_data[i-prediction_days:i]['close']) \n",
    "    max=np.amax(fb_data[i-prediction_days:i]['close'])\n",
    "    Y.append(fb_close[i+4])\n",
    "    \n",
    "for i in range(974):\n",
    "    X[i]['max']=np.amax(X[i])\n",
    "    X[i]['min']=np.amin(X[i])\n",
    "    X[i]['mean']=np.mean(X[i])\n",
    "X,Y=np.array(X), np.array(Y)\n",
    "\n",
    "X_train_fb = X[0:len(fb_data)-205]\n",
    "y_train_fb=Y[0:len(fb_data)-205]\n",
    "X_test_fb=X[len(apple_data)-204:]\n",
    "y_test_fb=Y[len(apple_data)-204:]"
   ]
  },
  {
   "cell_type": "code",
   "execution_count": 67,
   "id": "pursuant-empty",
   "metadata": {},
   "outputs": [
    {
     "data": {
      "text/plain": [
       "{'polynomialfeatures__degree': 1}"
      ]
     },
     "execution_count": 67,
     "metadata": {},
     "output_type": "execute_result"
    }
   ],
   "source": [
    "kfold=model_selection.KFold(n_splits=10,shuffle=False)\n",
    "grid1 = GridSearchCV(make_pipeline(PolynomialFeatures(degree=2), linear_model.LinearRegression()),\n",
    "                    param_grid={'polynomialfeatures__degree': [1, 2, 3, 4]},\n",
    "                    cv=kfold,\n",
    "                    refit=True)\n",
    "\n",
    "grid1.fit(X_train_fb,y_train_fb)\n",
    "grid1.best_params_"
   ]
  },
  {
   "cell_type": "code",
   "execution_count": 68,
   "id": "hourly-oxide",
   "metadata": {},
   "outputs": [
    {
     "name": "stderr",
     "output_type": "stream",
     "text": [
      "c:\\users\\aczer\\appdata\\local\\programs\\python\\python39\\lib\\site-packages\\sklearn\\model_selection\\_search.py:918: UserWarning: One or more of the test scores are non-finite: [        nan  0.20522952 -1.38318527  0.1855272          nan         nan\n",
      "         nan         nan         nan         nan]\n",
      "  warnings.warn(\n",
      "c:\\users\\aczer\\appdata\\local\\programs\\python\\python39\\lib\\site-packages\\sklearn\\linear_model\\_coordinate_descent.py:530: ConvergenceWarning: Objective did not converge. You might want to increase the number of iterations. Duality gap: 2596.0181604358377, tolerance: 51.675170014467916\n",
      "  model = cd_fast.enet_coordinate_descent(\n"
     ]
    },
    {
     "data": {
      "text/plain": [
       "{'polynomialfeatures__degree': 1, 'lasso__alpha': 0.1}"
      ]
     },
     "execution_count": 68,
     "metadata": {},
     "output_type": "execute_result"
    }
   ],
   "source": [
    "from sklearn.linear_model import Lasso\n",
    "from sklearn.model_selection import RandomizedSearchCV\n",
    "\n",
    "grid2= RandomizedSearchCV(make_pipeline(PolynomialFeatures(degree=2),Lasso()),\n",
    "                      [{'polynomialfeatures__degree':[1,2,3,5,6],'lasso__alpha':[0.01,0.1,1,10,5,0.5]}],\n",
    "                     cv=kfold,refit=True,\n",
    "                          n_jobs=10,\n",
    "                         pre_dispatch=20)\n",
    "grid2.fit(X_train_fb,y_train_fb)\n",
    "grid2.best_params_"
   ]
  },
  {
   "cell_type": "code",
   "execution_count": 69,
   "id": "global-glory",
   "metadata": {},
   "outputs": [
    {
     "name": "stderr",
     "output_type": "stream",
     "text": [
      "c:\\users\\aczer\\appdata\\local\\programs\\python\\python39\\lib\\site-packages\\sklearn\\model_selection\\_search.py:918: UserWarning: One or more of the test scores are non-finite: [        nan  0.16723062 -0.01539836 -0.26163185 -0.20830543         nan\n",
      " -1.84206962  0.19794547         nan -0.8696839 ]\n",
      "  warnings.warn(\n",
      "c:\\users\\aczer\\appdata\\local\\programs\\python\\python39\\lib\\site-packages\\sklearn\\linear_model\\_coordinate_descent.py:530: ConvergenceWarning: Objective did not converge. You might want to increase the number of iterations. Duality gap: 3370.3334091566767, tolerance: 51.675170014467916\n",
      "  model = cd_fast.enet_coordinate_descent(\n"
     ]
    },
    {
     "data": {
      "text/plain": [
       "{'polynomialfeatures__degree': 1, 'elasticnet__alpha': 0.1}"
      ]
     },
     "execution_count": 69,
     "metadata": {},
     "output_type": "execute_result"
    }
   ],
   "source": [
    "from sklearn.linear_model import ElasticNet\n",
    "\n",
    "grid3= RandomizedSearchCV(make_pipeline(PolynomialFeatures(degree=2),ElasticNet()),\n",
    "                      [{'polynomialfeatures__degree':[1,2,3,4],'elasticnet__alpha':[0.01,0.1,1,10]}],\n",
    "                     cv=kfold,refit=True,\n",
    "                          n_jobs=10,\n",
    "                         pre_dispatch=20)\n",
    "grid3.fit(X_train_fb,y_train_fb)\n",
    "grid3.best_params_"
   ]
  },
  {
   "cell_type": "code",
   "execution_count": 70,
   "id": "turkish-suggestion",
   "metadata": {},
   "outputs": [
    {
     "name": "stderr",
     "output_type": "stream",
     "text": [
      "c:\\users\\aczer\\appdata\\local\\programs\\python\\python39\\lib\\site-packages\\sklearn\\model_selection\\_search.py:918: UserWarning: One or more of the test scores are non-finite: [            nan             nan  1.95044800e-01 -8.64475608e+00\n",
      "             nan             nan  1.95031492e-01 -4.67735897e+02\n",
      "             nan -4.47020259e+02]\n",
      "  warnings.warn(\n"
     ]
    },
    {
     "data": {
      "text/plain": [
       "{'ridge__alpha': 0.001, 'polynomialfeatures__degree': 1}"
      ]
     },
     "execution_count": 70,
     "metadata": {},
     "output_type": "execute_result"
    }
   ],
   "source": [
    "from sklearn.linear_model import Ridge\n",
    "grid4= RandomizedSearchCV(make_pipeline(PolynomialFeatures(degree=2),Ridge()),\n",
    "                      [{'polynomialfeatures__degree':[1,2,3,4,5,6],'ridge__alpha':[0.001,0.01,0.1,1,5,10]}],\n",
    "                     cv=kfold,refit=True,\n",
    "                          n_jobs=10,\n",
    "                         pre_dispatch=20)\n",
    "grid4.fit(X_train_fb,y_train_fb)\n",
    "grid4.best_params_"
   ]
  },
  {
   "cell_type": "code",
   "execution_count": 71,
   "id": "optimum-image",
   "metadata": {},
   "outputs": [
    {
     "data": {
      "text/plain": [
       "{'n_estimators': 1000, 'max_depth': 8}"
      ]
     },
     "execution_count": 71,
     "metadata": {},
     "output_type": "execute_result"
    }
   ],
   "source": [
    "from sklearn.svm import SVR\n",
    "from sklearn.ensemble import RandomForestRegressor\n",
    "\n",
    "grid5= RandomizedSearchCV(RandomForestRegressor(),\n",
    "                      [{'max_depth':[3,4,5,6,7,8],'n_estimators':[1000,100,50,10,400]}],\n",
    "                     cv=kfold,refit=True,\n",
    "                          n_jobs=10,\n",
    "                         pre_dispatch=20)\n",
    "grid5.fit(X_train_fb,y_train_fb)\n",
    "grid5.best_params_"
   ]
  },
  {
   "cell_type": "code",
   "execution_count": 72,
   "id": "final-awareness",
   "metadata": {},
   "outputs": [
    {
     "data": {
      "text/plain": [
       "{'gamma': 0.001, 'C': 10}"
      ]
     },
     "execution_count": 72,
     "metadata": {},
     "output_type": "execute_result"
    }
   ],
   "source": [
    "grid6= RandomizedSearchCV(SVR(kernel='rbf'),\n",
    "                      [{'C':[0.01,0.1,1,10,100,500],'gamma':[0.001,0.01,0.1,1,10,100,5]}],\n",
    "                     cv=kfold,refit=True,\n",
    "                          n_jobs=10,\n",
    "                         pre_dispatch=20)\n",
    "grid6.fit(X_train_fb,y_train_fb)\n",
    "grid6.best_params_"
   ]
  },
  {
   "cell_type": "code",
   "execution_count": null,
   "id": "central-ethnic",
   "metadata": {},
   "outputs": [],
   "source": [
    "models = [] \n",
    "models.append(('LR',grid1.best_estimator_))\n",
    "models.append(('Lasso',grid2.best_estimator_))\n",
    "models.append(('ElasticNet',grid3.best_estimator_))\n",
    "models.append(('Ridge',grid4.best_estimator_))\n",
    "models.append(('RandomForest',grid5.best_estimator_))\n",
    "models.append(('SVR',grid6.best_estimator_))\n",
    "\n",
    "r2 = []\n",
    "explained_variance_score = []\n",
    "median_absolute_error = []\n",
    "mean_squared_error = []\n",
    "mean_absolute_error = []\n",
    "for name, model in models:\n",
    "    r2.append(metrics.r2_score(y_test_fb, model.predict(X_test_fb)))\n",
    "    explained_variance_score.append(metrics.explained_variance_score(y_test_fb, model.predict(X_test_fb)))\n",
    "    median_absolute_error.append( metrics.median_absolute_error(y_test_fb, model.predict(X_test_fb)))\n",
    "    mean_squared_error.append(metrics.mean_squared_error(y_test_fb, model.predict(X_test_fb)))\n",
    "    mean_absolute_error.append(metrics.mean_absolute_error(y_test_fb, model.predict(X_test_fb)))\n",
    "\n",
    "    \n",
    "d = {'r2': r2, \n",
    "     'explained_variance_score': explained_variance_score, \n",
    "     'median_absolute_error': median_absolute_error,\n",
    "     'mean_squared_error' : mean_squared_error,\n",
    "     'mean_absolute_error' : mean_absolute_error,\n",
    "    }\n",
    "df = pd.DataFrame(data=d)\n",
    "df.insert(loc=0, column='Method', value=['LR','Lasso','ElasticNet','Ridge','RandomForest','SVR'])\n",
    "df"
   ]
  },
  {
   "cell_type": "code",
   "execution_count": 11,
   "id": "protective-phase",
   "metadata": {},
   "outputs": [
    {
     "name": "stderr",
     "output_type": "stream",
     "text": [
      "<ipython-input-11-42a093e883d7>:12: SettingWithCopyWarning: \n",
      "A value is trying to be set on a copy of a slice from a DataFrame\n",
      "\n",
      "See the caveats in the documentation: https://pandas.pydata.org/pandas-docs/stable/user_guide/indexing.html#returning-a-view-versus-a-copy\n",
      "  X[i]['min']=np.amin(X[i])\n",
      "<ipython-input-11-42a093e883d7>:13: SettingWithCopyWarning: \n",
      "A value is trying to be set on a copy of a slice from a DataFrame\n",
      "\n",
      "See the caveats in the documentation: https://pandas.pydata.org/pandas-docs/stable/user_guide/indexing.html#returning-a-view-versus-a-copy\n",
      "  X[i]['mean']=np.mean(X[i])\n"
     ]
    }
   ],
   "source": [
    "prediction_days= 30\n",
    "coca_close=coca_data[\"close\"]\n",
    "X=[]\n",
    "Y=[]\n",
    "for i in range(prediction_days,len(coca_data)-4):\n",
    "    X.append(coca_data[i-prediction_days:i]['close']) \n",
    "    max=np.amax(coca_data[i-prediction_days:i]['close'])\n",
    "    Y.append(coca_close[i+4])\n",
    "    \n",
    "for i in range(974):\n",
    "    X[i]['max']=np.amax(X[i])\n",
    "    X[i]['min']=np.amin(X[i])\n",
    "    X[i]['mean']=np.mean(X[i])\n",
    "X,Y=np.array(X), np.array(Y)\n",
    "\n",
    "X_train_coca = X[0:len(coca_data)-205]\n",
    "y_train_coca=Y[0:len(coca_data)-205]\n",
    "X_test_coca=X[len(coca_data)-204:]\n",
    "y_test_coca=Y[len(coca_data)-204:]"
   ]
  },
  {
   "cell_type": "code",
   "execution_count": 80,
   "id": "tested-warner",
   "metadata": {},
   "outputs": [
    {
     "data": {
      "text/plain": [
       "{'polynomialfeatures__degree': 1}"
      ]
     },
     "execution_count": 80,
     "metadata": {},
     "output_type": "execute_result"
    }
   ],
   "source": [
    "kfold=model_selection.KFold(n_splits=10,shuffle=False)\n",
    "grid1 = GridSearchCV(make_pipeline(PolynomialFeatures(degree=2), linear_model.LinearRegression()),\n",
    "                    param_grid={'polynomialfeatures__degree': [1, 2, 3, 4]},\n",
    "                    cv=kfold,\n",
    "                    refit=True)\n",
    "\n",
    "grid1.fit(X_train_coca,y_train_coca)\n",
    "grid1.best_params_"
   ]
  },
  {
   "cell_type": "code",
   "execution_count": 81,
   "id": "angry-spider",
   "metadata": {},
   "outputs": [
    {
     "name": "stderr",
     "output_type": "stream",
     "text": [
      "c:\\users\\aczer\\appdata\\local\\programs\\python\\python39\\lib\\site-packages\\sklearn\\model_selection\\_search.py:918: UserWarning: One or more of the test scores are non-finite: [       nan        nan        nan        nan        nan        nan\n",
      " 0.39814386 0.38103797        nan 0.37618734]\n",
      "  warnings.warn(\n"
     ]
    },
    {
     "data": {
      "text/plain": [
       "{'polynomialfeatures__degree': 2, 'lasso__alpha': 1}"
      ]
     },
     "execution_count": 81,
     "metadata": {},
     "output_type": "execute_result"
    }
   ],
   "source": [
    "from sklearn.linear_model import Lasso\n",
    "from sklearn.model_selection import RandomizedSearchCV\n",
    "\n",
    "grid2= RandomizedSearchCV(make_pipeline(PolynomialFeatures(degree=2),Lasso()),\n",
    "                      [{'polynomialfeatures__degree':[1,2,3,5,6],'lasso__alpha':[0.01,0.1,1,10,5,0.5]}],\n",
    "                     cv=kfold,refit=True,\n",
    "                          n_jobs=10,\n",
    "                         pre_dispatch=20)\n",
    "grid2.fit(X_train_coca,y_train_coca)\n",
    "grid2.best_params_"
   ]
  },
  {
   "cell_type": "code",
   "execution_count": 82,
   "id": "spare-aircraft",
   "metadata": {},
   "outputs": [
    {
     "name": "stderr",
     "output_type": "stream",
     "text": [
      "c:\\users\\aczer\\appdata\\local\\programs\\python\\python39\\lib\\site-packages\\sklearn\\model_selection\\_search.py:918: UserWarning: One or more of the test scores are non-finite: [0.37880075        nan 0.40516123 0.39022225        nan 0.41616643\n",
      " 0.35571546 0.3694012  0.38800655        nan]\n",
      "  warnings.warn(\n"
     ]
    },
    {
     "data": {
      "text/plain": [
       "{'polynomialfeatures__degree': 2, 'elasticnet__alpha': 10}"
      ]
     },
     "execution_count": 82,
     "metadata": {},
     "output_type": "execute_result"
    }
   ],
   "source": [
    "from sklearn.linear_model import ElasticNet\n",
    "\n",
    "grid3= RandomizedSearchCV(make_pipeline(PolynomialFeatures(degree=2),ElasticNet()),\n",
    "                      [{'polynomialfeatures__degree':[1,2,3,4],'elasticnet__alpha':[0.01,0.1,1,10]}],\n",
    "                     cv=kfold,refit=True,\n",
    "                          n_jobs=10,\n",
    "                         pre_dispatch=20)\n",
    "grid3.fit(X_train_coca,y_train_coca)\n",
    "grid3.best_params_"
   ]
  },
  {
   "cell_type": "code",
   "execution_count": 83,
   "id": "russian-reggae",
   "metadata": {},
   "outputs": [
    {
     "name": "stderr",
     "output_type": "stream",
     "text": [
      "c:\\users\\aczer\\appdata\\local\\programs\\python\\python39\\lib\\site-packages\\sklearn\\model_selection\\_search.py:918: UserWarning: One or more of the test scores are non-finite: [0.11896536 0.38182386 0.38150328        nan        nan        nan\n",
      "        nan        nan        nan        nan]\n",
      "  warnings.warn(\n"
     ]
    },
    {
     "data": {
      "text/plain": [
       "{'ridge__alpha': 10, 'polynomialfeatures__degree': 1}"
      ]
     },
     "execution_count": 83,
     "metadata": {},
     "output_type": "execute_result"
    }
   ],
   "source": [
    "from sklearn.linear_model import Ridge\n",
    "grid4= RandomizedSearchCV(make_pipeline(PolynomialFeatures(degree=2),Ridge()),\n",
    "                      [{'polynomialfeatures__degree':[1,2,3,4,5,6],'ridge__alpha':[0.001,0.01,0.1,1,5,10]}],\n",
    "                     cv=kfold,refit=True,\n",
    "                          n_jobs=10,\n",
    "                         pre_dispatch=20)\n",
    "grid4.fit(X_train_coca,y_train_coca)\n",
    "grid4.best_params_"
   ]
  },
  {
   "cell_type": "code",
   "execution_count": 84,
   "id": "heavy-prairie",
   "metadata": {},
   "outputs": [
    {
     "data": {
      "text/plain": [
       "{'n_estimators': 10, 'max_depth': 7}"
      ]
     },
     "execution_count": 84,
     "metadata": {},
     "output_type": "execute_result"
    }
   ],
   "source": [
    "from sklearn.svm import SVR\n",
    "from sklearn.ensemble import RandomForestRegressor\n",
    "\n",
    "grid5= RandomizedSearchCV(RandomForestRegressor(),\n",
    "                      [{'max_depth':[3,4,5,6,7,8],'n_estimators':[1000,100,50,10,400]}],\n",
    "                     cv=kfold,refit=True,\n",
    "                          n_jobs=10,\n",
    "                         pre_dispatch=20)\n",
    "grid5.fit(X_train_coca,y_train_coca)\n",
    "grid5.best_params_"
   ]
  },
  {
   "cell_type": "code",
   "execution_count": 85,
   "id": "restricted-recycling",
   "metadata": {},
   "outputs": [
    {
     "data": {
      "text/plain": [
       "{'gamma': 0.001, 'C': 10}"
      ]
     },
     "execution_count": 85,
     "metadata": {},
     "output_type": "execute_result"
    }
   ],
   "source": [
    "grid6= RandomizedSearchCV(SVR(kernel='rbf'),\n",
    "                      [{'C':[0.01,0.1,1,10,100,500],'gamma':[0.001,0.01,0.1,1,10,100,5]}],\n",
    "                     cv=kfold,refit=True,\n",
    "                          n_jobs=10,\n",
    "                         pre_dispatch=20)\n",
    "grid6.fit(X_train_coca,y_train_coca)\n",
    "grid6.best_params_"
   ]
  },
  {
   "cell_type": "code",
   "execution_count": 86,
   "id": "afraid-cherry",
   "metadata": {},
   "outputs": [
    {
     "data": {
      "text/html": [
       "<div>\n",
       "<style scoped>\n",
       "    .dataframe tbody tr th:only-of-type {\n",
       "        vertical-align: middle;\n",
       "    }\n",
       "\n",
       "    .dataframe tbody tr th {\n",
       "        vertical-align: top;\n",
       "    }\n",
       "\n",
       "    .dataframe thead th {\n",
       "        text-align: right;\n",
       "    }\n",
       "</style>\n",
       "<table border=\"1\" class=\"dataframe\">\n",
       "  <thead>\n",
       "    <tr style=\"text-align: right;\">\n",
       "      <th></th>\n",
       "      <th>Method</th>\n",
       "      <th>r2</th>\n",
       "      <th>explained_variance_score</th>\n",
       "      <th>median_absolute_error</th>\n",
       "      <th>mean_squared_error</th>\n",
       "      <th>mean_absolute_error</th>\n",
       "    </tr>\n",
       "  </thead>\n",
       "  <tbody>\n",
       "    <tr>\n",
       "      <th>0</th>\n",
       "      <td>LR</td>\n",
       "      <td>0.801781</td>\n",
       "      <td>0.802169</td>\n",
       "      <td>0.468568</td>\n",
       "      <td>0.497276</td>\n",
       "      <td>0.561141</td>\n",
       "    </tr>\n",
       "    <tr>\n",
       "      <th>1</th>\n",
       "      <td>Lasso</td>\n",
       "      <td>0.804813</td>\n",
       "      <td>0.804835</td>\n",
       "      <td>0.395021</td>\n",
       "      <td>0.489670</td>\n",
       "      <td>0.536863</td>\n",
       "    </tr>\n",
       "    <tr>\n",
       "      <th>2</th>\n",
       "      <td>ElasticNet</td>\n",
       "      <td>0.810161</td>\n",
       "      <td>0.810368</td>\n",
       "      <td>0.448232</td>\n",
       "      <td>0.476253</td>\n",
       "      <td>0.533016</td>\n",
       "    </tr>\n",
       "    <tr>\n",
       "      <th>3</th>\n",
       "      <td>Ridge</td>\n",
       "      <td>0.803023</td>\n",
       "      <td>0.803578</td>\n",
       "      <td>0.472886</td>\n",
       "      <td>0.494162</td>\n",
       "      <td>0.558903</td>\n",
       "    </tr>\n",
       "    <tr>\n",
       "      <th>4</th>\n",
       "      <td>RandomForest</td>\n",
       "      <td>0.365159</td>\n",
       "      <td>0.553705</td>\n",
       "      <td>0.781074</td>\n",
       "      <td>1.592641</td>\n",
       "      <td>0.984237</td>\n",
       "    </tr>\n",
       "    <tr>\n",
       "      <th>5</th>\n",
       "      <td>SVR</td>\n",
       "      <td>0.739299</td>\n",
       "      <td>0.818713</td>\n",
       "      <td>0.492587</td>\n",
       "      <td>0.654028</td>\n",
       "      <td>0.626564</td>\n",
       "    </tr>\n",
       "  </tbody>\n",
       "</table>\n",
       "</div>"
      ],
      "text/plain": [
       "         Method        r2  explained_variance_score  median_absolute_error  \\\n",
       "0            LR  0.801781                  0.802169               0.468568   \n",
       "1         Lasso  0.804813                  0.804835               0.395021   \n",
       "2    ElasticNet  0.810161                  0.810368               0.448232   \n",
       "3         Ridge  0.803023                  0.803578               0.472886   \n",
       "4  RandomForest  0.365159                  0.553705               0.781074   \n",
       "5           SVR  0.739299                  0.818713               0.492587   \n",
       "\n",
       "   mean_squared_error  mean_absolute_error  \n",
       "0            0.497276             0.561141  \n",
       "1            0.489670             0.536863  \n",
       "2            0.476253             0.533016  \n",
       "3            0.494162             0.558903  \n",
       "4            1.592641             0.984237  \n",
       "5            0.654028             0.626564  "
      ]
     },
     "execution_count": 86,
     "metadata": {},
     "output_type": "execute_result"
    }
   ],
   "source": [
    "models = [] \n",
    "models.append(('LR',grid1.best_estimator_))\n",
    "models.append(('Lasso',grid2.best_estimator_))\n",
    "models.append(('ElasticNet',grid3.best_estimator_))\n",
    "models.append(('Ridge',grid4.best_estimator_))\n",
    "models.append(('RandomForest',grid5.best_estimator_))\n",
    "models.append(('SVR',grid6.best_estimator_))\n",
    "\n",
    "r2 = []\n",
    "explained_variance_score = []\n",
    "median_absolute_error = []\n",
    "mean_squared_error = []\n",
    "mean_absolute_error = []\n",
    "for name, model in models:\n",
    "    r2.append(metrics.r2_score(y_test_coca, model.predict(X_test_coca)))\n",
    "    explained_variance_score.append(metrics.explained_variance_score(y_test_coca, model.predict(X_test_coca)))\n",
    "    median_absolute_error.append( metrics.median_absolute_error(y_test_coca, model.predict(X_test_coca)))\n",
    "    mean_squared_error.append(metrics.mean_squared_error(y_test_coca, model.predict(X_test_coca)))\n",
    "    mean_absolute_error.append(metrics.mean_absolute_error(y_test_coca, model.predict(X_test_coca)))\n",
    "\n",
    "    \n",
    "d = {'r2': r2, \n",
    "     'explained_variance_score': explained_variance_score, \n",
    "     'median_absolute_error': median_absolute_error,\n",
    "     'mean_squared_error' : mean_squared_error,\n",
    "     'mean_absolute_error' : mean_absolute_error,\n",
    "    }\n",
    "df = pd.DataFrame(data=d)\n",
    "df.insert(loc=0, column='Method', value=['LR','Lasso','ElasticNet','Ridge','RandomForest','SVR'])\n",
    "df"
   ]
  },
  {
   "cell_type": "code",
   "execution_count": 1,
   "id": "professional-graphic",
   "metadata": {},
   "outputs": [],
   "source": [
    "from keras.models import Sequential\n",
    "from keras.layers import Dense\n",
    "from keras.layers import LSTM\n",
    "from keras.layers import Dropout\n"
   ]
  },
  {
   "cell_type": "code",
   "execution_count": 67,
   "id": "first-concord",
   "metadata": {},
   "outputs": [
    {
     "name": "stdout",
     "output_type": "stream",
     "text": [
      "[[37.599998  ]\n",
      " [37.66      ]\n",
      " [37.299999  ]\n",
      " [37.040001  ]\n",
      " [37.029999  ]\n",
      " [36.959999  ]\n",
      " [36.91      ]\n",
      " [36.990002  ]\n",
      " [37.32      ]\n",
      " [37.32      ]\n",
      " [37.509998  ]\n",
      " [37.700001  ]\n",
      " [37.130001  ]\n",
      " [37.130001  ]\n",
      " [37.110001  ]\n",
      " [37.049999  ]\n",
      " [37.009998  ]\n",
      " [37.419998  ]\n",
      " [37.5       ]\n",
      " [37.240002  ]\n",
      " [37.540001  ]\n",
      " [37.349998  ]\n",
      " [38.139999  ]\n",
      " [38.310001  ]\n",
      " [38.91      ]\n",
      " [38.77      ]\n",
      " [38.610001  ]\n",
      " [37.560001  ]\n",
      " [37.209999  ]\n",
      " [36.84      ]\n",
      " [38.91      ]\n",
      " [36.84      ]\n",
      " [37.49749991]]\n"
     ]
    }
   ],
   "source": [
    "X_train.shape\n",
    "print(X_train[1])"
   ]
  },
  {
   "cell_type": "code",
   "execution_count": 94,
   "id": "confidential-louisiana",
   "metadata": {},
   "outputs": [],
   "source": [
    "from sklearn.preprocessing import MinMaxScaler\n",
    "\n",
    "scaler = MinMaxScaler(feature_range=(0,1))\n",
    "data=apple_data[apple_data.date>\"2013-01-01\"]\n",
    "data=data[:len(apple_data)-205]\n",
    "scaled_data = scaler.fit_transform(data['close'].values.reshape(-1,1))\n",
    "\n",
    "prediction_days=30\n",
    "x_train=[]\n",
    "y_train=[]\n",
    "for x in range(prediction_days,len(scaled_data)-5):\n",
    "    x_train.append(scaled_data[x-prediction_days:x,0])\n",
    "    y_train.append(scaled_data[x+4,0])\n",
    "x_train,y_train=np.array(x_train),np.array(y_train)\n",
    "x_train = np.reshape(x_train,(x_train.shape[0],x_train.shape[1],1))"
   ]
  },
  {
   "cell_type": "code",
   "execution_count": 104,
   "id": "naughty-medicine",
   "metadata": {},
   "outputs": [],
   "source": [
    "model=Sequential()\n",
    "\n",
    "model.add(LSTM(units=50, return_sequences=True, input_shape=(X_train.shape[1],1)))\n",
    "model.add(Dropout(0.2))\n",
    "model.add(LSTM(units=50, return_sequences=True))\n",
    "model.add(Dropout(0.2))\n",
    "model.add(LSTM(units=50))\n",
    "model.add(Dropout(0.2))\n",
    "model.add(Dense(units=1))\n",
    "\n",
    "model.compile(optimizer='adam',loss='mean_squared_error')"
   ]
  },
  {
   "cell_type": "code",
   "execution_count": 105,
   "id": "selected-behalf",
   "metadata": {},
   "outputs": [
    {
     "name": "stdout",
     "output_type": "stream",
     "text": [
      "Model: \"sequential_18\"\n",
      "_________________________________________________________________\n",
      "Layer (type)                 Output Shape              Param #   \n",
      "=================================================================\n",
      "lstm_36 (LSTM)               (None, 33, 50)            10400     \n",
      "_________________________________________________________________\n",
      "dropout_21 (Dropout)         (None, 33, 50)            0         \n",
      "_________________________________________________________________\n",
      "lstm_37 (LSTM)               (None, 33, 50)            20200     \n",
      "_________________________________________________________________\n",
      "dropout_22 (Dropout)         (None, 33, 50)            0         \n",
      "_________________________________________________________________\n",
      "lstm_38 (LSTM)               (None, 50)                20200     \n",
      "_________________________________________________________________\n",
      "dropout_23 (Dropout)         (None, 50)                0         \n",
      "_________________________________________________________________\n",
      "dense_9 (Dense)              (None, 1)                 51        \n",
      "=================================================================\n",
      "Total params: 50,851\n",
      "Trainable params: 50,851\n",
      "Non-trainable params: 0\n",
      "_________________________________________________________________\n"
     ]
    }
   ],
   "source": [
    "model.summary()"
   ]
  },
  {
   "cell_type": "code",
   "execution_count": 107,
   "id": "spiritual-chosen",
   "metadata": {},
   "outputs": [
    {
     "name": "stdout",
     "output_type": "stream",
     "text": [
      "Epoch 1/50\n",
      "WARNING:tensorflow:Model was constructed with shape (None, 33, 1) for input KerasTensor(type_spec=TensorSpec(shape=(None, 33, 1), dtype=tf.float32, name='lstm_36_input'), name='lstm_36_input', description=\"created by layer 'lstm_36_input'\"), but it was called on an input with incompatible shape (32, 30, 1).\n",
      "WARNING:tensorflow:Model was constructed with shape (None, 33, 1) for input KerasTensor(type_spec=TensorSpec(shape=(None, 33, 1), dtype=tf.float32, name='lstm_36_input'), name='lstm_36_input', description=\"created by layer 'lstm_36_input'\"), but it was called on an input with incompatible shape (32, 30, 1).\n",
      "24/24 [==============================] - 14s 52ms/step - loss: 0.1658\n",
      "Epoch 2/50\n",
      "24/24 [==============================] - 1s 61ms/step - loss: 0.0126\n",
      "Epoch 3/50\n",
      "24/24 [==============================] - 1s 58ms/step - loss: 0.0087\n",
      "Epoch 4/50\n",
      "24/24 [==============================] - 1s 57ms/step - loss: 0.0072\n",
      "Epoch 5/50\n",
      "24/24 [==============================] - 1s 52ms/step - loss: 0.0076\n",
      "Epoch 6/50\n",
      "24/24 [==============================] - 2s 65ms/step - loss: 0.0060\n",
      "Epoch 7/50\n",
      "24/24 [==============================] - 1s 51ms/step - loss: 0.0078\n",
      "Epoch 8/50\n",
      "24/24 [==============================] - 1s 50ms/step - loss: 0.0069: 0s - lo\n",
      "Epoch 9/50\n",
      "24/24 [==============================] - 1s 47ms/step - loss: 0.0069\n",
      "Epoch 10/50\n",
      "24/24 [==============================] - 1s 54ms/step - loss: 0.0065: 0s - loss\n",
      "Epoch 11/50\n",
      "24/24 [==============================] - 1s 52ms/step - loss: 0.0062: 0s - loss\n",
      "Epoch 12/50\n",
      "24/24 [==============================] - 1s 49ms/step - loss: 0.0062\n",
      "Epoch 13/50\n",
      "24/24 [==============================] - 2s 64ms/step - loss: 0.0062\n",
      "Epoch 14/50\n",
      "24/24 [==============================] - 1s 48ms/step - loss: 0.0062\n",
      "Epoch 15/50\n",
      "24/24 [==============================] - 1s 48ms/step - loss: 0.0051\n",
      "Epoch 16/50\n",
      "24/24 [==============================] - 1s 52ms/step - loss: 0.0052\n",
      "Epoch 17/50\n",
      "24/24 [==============================] - 1s 55ms/step - loss: 0.0069\n",
      "Epoch 18/50\n",
      "24/24 [==============================] - 1s 51ms/step - loss: 0.0058: 0s - loss: \n",
      "Epoch 19/50\n",
      "24/24 [==============================] - 1s 52ms/step - loss: 0.0056\n",
      "Epoch 20/50\n",
      "24/24 [==============================] - 2s 64ms/step - loss: 0.0060\n",
      "Epoch 21/50\n",
      "24/24 [==============================] - 1s 53ms/step - loss: 0.0055: 0s\n",
      "Epoch 22/50\n",
      "24/24 [==============================] - 1s 60ms/step - loss: 0.0058:\n",
      "Epoch 23/50\n",
      "24/24 [==============================] - 1s 62ms/step - loss: 0.0057\n",
      "Epoch 24/50\n",
      "24/24 [==============================] - 1s 61ms/step - loss: 0.0057\n",
      "Epoch 25/50\n",
      "24/24 [==============================] - 2s 67ms/step - loss: 0.0054\n",
      "Epoch 26/50\n",
      "24/24 [==============================] - 1s 62ms/step - loss: 0.0056\n",
      "Epoch 27/50\n",
      "24/24 [==============================] - 1s 58ms/step - loss: 0.0050\n",
      "Epoch 28/50\n",
      "24/24 [==============================] - 2s 66ms/step - loss: 0.0055\n",
      "Epoch 29/50\n",
      "24/24 [==============================] - 1s 61ms/step - loss: 0.0052\n",
      "Epoch 30/50\n",
      "24/24 [==============================] - 1s 63ms/step - loss: 0.0048\n",
      "Epoch 31/50\n",
      "24/24 [==============================] - 1s 58ms/step - loss: 0.0054\n",
      "Epoch 32/50\n",
      "24/24 [==============================] - 1s 51ms/step - loss: 0.0047\n",
      "Epoch 33/50\n",
      "24/24 [==============================] - 1s 52ms/step - loss: 0.0051\n",
      "Epoch 34/50\n",
      "24/24 [==============================] - 1s 55ms/step - loss: 0.0056: 0s - los\n",
      "Epoch 35/50\n",
      "24/24 [==============================] - 1s 58ms/step - loss: 0.0058\n",
      "Epoch 36/50\n",
      "24/24 [==============================] - 1s 55ms/step - loss: 0.0045\n",
      "Epoch 37/50\n",
      "24/24 [==============================] - 1s 54ms/step - loss: 0.0052: 0s - lo\n",
      "Epoch 38/50\n",
      "24/24 [==============================] - 1s 54ms/step - loss: 0.0053\n",
      "Epoch 39/50\n",
      "24/24 [==============================] - 1s 57ms/step - loss: 0.0051\n",
      "Epoch 40/50\n",
      "24/24 [==============================] - 1s 57ms/step - loss: 0.0043\n",
      "Epoch 41/50\n",
      "24/24 [==============================] - 2s 69ms/step - loss: 0.0047\n",
      "Epoch 42/50\n",
      "24/24 [==============================] - 1s 54ms/step - loss: 0.0042\n",
      "Epoch 43/50\n",
      "24/24 [==============================] - 1s 51ms/step - loss: 0.0054\n",
      "Epoch 44/50\n",
      "24/24 [==============================] - 1s 51ms/step - loss: 0.0045\n",
      "Epoch 45/50\n",
      "24/24 [==============================] - 1s 54ms/step - loss: 0.0050: 0s - loss: 0.0 - ETA: 0s - loss: 0\n",
      "Epoch 46/50\n",
      "24/24 [==============================] - 2s 63ms/step - loss: 0.0045\n",
      "Epoch 47/50\n",
      "24/24 [==============================] - 2s 64ms/step - loss: 0.0045\n",
      "Epoch 48/50\n",
      "24/24 [==============================] - 2s 63ms/step - loss: 0.0043\n",
      "Epoch 49/50\n",
      "24/24 [==============================] - 1s 52ms/step - loss: 0.0051\n",
      "Epoch 50/50\n",
      "24/24 [==============================] - 1s 62ms/step - loss: 0.0053\n"
     ]
    },
    {
     "data": {
      "text/plain": [
       "<keras.callbacks.History at 0x1fd8b0964f0>"
      ]
     },
     "execution_count": 107,
     "metadata": {},
     "output_type": "execute_result"
    }
   ],
   "source": [
    "model.fit(x_train,y_train,epochs=50,batch_size=32)"
   ]
  },
  {
   "cell_type": "code",
   "execution_count": 180,
   "id": "dressed-match",
   "metadata": {},
   "outputs": [],
   "source": [
    "from sklearn import metrics\n",
    "data2=apple_data[len(apple_data)-206:]\n",
    "scaled_data = scaler.fit_transform(data2['close'].values.reshape(-1,1))\n",
    "\n",
    "x_test=[]\n",
    "y_test=[]\n",
    "for x in range(prediction_days,len(scaled_data)-4):\n",
    "    x_test.append(scaled_data[x-prediction_days:x,0])\n",
    "    y_test.append(scaled_data[x+4,0])\n",
    "    \n",
    "X_test,y_test=np.array(x_test),np.array(y_test)\n",
    "X_test = np.reshape(X_test,(X_test.shape[0],X_test.shape[1],1))\n"
   ]
  },
  {
   "cell_type": "code",
   "execution_count": 183,
   "id": "configured-psychology",
   "metadata": {},
   "outputs": [
    {
     "name": "stdout",
     "output_type": "stream",
     "text": [
      "0.6319430296215065\n"
     ]
    }
   ],
   "source": [
    "predicted=model.predict(X_test)\n",
    "predicted=scaler.inverse_transform(predicted)\n",
    "r2=metrics.r2_score(y_test, model.predict(X_test))\n",
    "print(r2)"
   ]
  },
  {
   "cell_type": "code",
   "execution_count": 182,
   "id": "renewable-component",
   "metadata": {},
   "outputs": [
    {
     "data": {
      "text/plain": [
       "<function matplotlib.pyplot.show(close=None, block=None)>"
      ]
     },
     "execution_count": 182,
     "metadata": {},
     "output_type": "execute_result"
    },
    {
     "data": {
      "image/png": "[encoded data removed]",
      "text/plain": [
       "<Figure size 432x288 with 1 Axes>"
      ]
     },
     "metadata": {
      "needs_background": "light"
     },
     "output_type": "display_data"
    }
   ],
   "source": [
    "\n",
    "data2=apple_data[len(apple_data)-181:]\n",
    "plt.plot(data2['close'].values,color=\"black\")\n",
    "plt.plot(predicted,color='blue')\n",
    "plt.show\n",
    "\n"
   ]
  },
  {
   "cell_type": "code",
   "execution_count": 169,
   "id": "stunning-extension",
   "metadata": {},
   "outputs": [
    {
     "name": "stdout",
     "output_type": "stream",
     "text": [
      "0.4728690925731184\n"
     ]
    },
    {
     "data": {
      "text/plain": [
       "<function matplotlib.pyplot.show(close=None, block=None)>"
      ]
     },
     "execution_count": 169,
     "metadata": {},
     "output_type": "execute_result"
    },
    {
     "data": {
      "image/png": "[encoded data removed]",
      "text/plain": [
       "<Figure size 432x288 with 1 Axes>"
      ]
     },
     "metadata": {
      "needs_background": "light"
     },
     "output_type": "display_data"
    }
   ],
   "source": [
    "data3=fb_data[len(fb_data)-206:]\n",
    "scaled_data = scaler.fit_transform(data3['close'].values.reshape(-1,1))\n",
    "\n",
    "x_test=[]\n",
    "y_test=[]\n",
    "for x in range(prediction_days,len(scaled_data)-4):\n",
    "    x_test.append(scaled_data[x-prediction_days:x,0])\n",
    "    y_test.append(scaled_data[x+4,0])\n",
    "    \n",
    "X_test,y_test=np.array(x_test),np.array(y_test)\n",
    "X_test = np.reshape(X_test,(X_test.shape[0],X_test.shape[1],1))\n",
    "\n",
    "predicted=model.predict(X_test)\n",
    "predicted=scaler.inverse_transform(predicted)\n",
    "r2=metrics.r2_score(y_test, model.predict(X_test))\n",
    "print(r2)\n",
    "\n",
    "data3=fb_data[len(fb_data)-172:]\n",
    "plt.plot(data3['close'].values,color=\"black\")\n",
    "plt.plot(predicted,color='blue')\n",
    "plt.show\n"
   ]
  },
  {
   "cell_type": "code",
   "execution_count": 125,
   "id": "breeding-kidney",
   "metadata": {},
   "outputs": [],
   "source": [
    "data2=apple_data[len(apple_data)-206:]"
   ]
  },
  {
   "cell_type": "code",
   "execution_count": 145,
   "id": "analyzed-disabled",
   "metadata": {},
   "outputs": [
    {
     "data": {
      "text/html": [
       "<div>\n",
       "<style scoped>\n",
       "    .dataframe tbody tr th:only-of-type {\n",
       "        vertical-align: middle;\n",
       "    }\n",
       "\n",
       "    .dataframe tbody tr th {\n",
       "        vertical-align: top;\n",
       "    }\n",
       "\n",
       "    .dataframe thead th {\n",
       "        text-align: right;\n",
       "    }\n",
       "</style>\n",
       "<table border=\"1\" class=\"dataframe\">\n",
       "  <thead>\n",
       "    <tr style=\"text-align: right;\">\n",
       "      <th></th>\n",
       "      <th>date</th>\n",
       "      <th>symbol</th>\n",
       "      <th>open</th>\n",
       "      <th>close</th>\n",
       "      <th>low</th>\n",
       "      <th>high</th>\n",
       "      <th>volume</th>\n",
       "    </tr>\n",
       "    <tr>\n",
       "      <th>date</th>\n",
       "      <th></th>\n",
       "      <th></th>\n",
       "      <th></th>\n",
       "      <th></th>\n",
       "      <th></th>\n",
       "      <th></th>\n",
       "      <th></th>\n",
       "    </tr>\n",
       "  </thead>\n",
       "  <tbody>\n",
       "    <tr>\n",
       "      <th>2016-04-22</th>\n",
       "      <td>2016-04-22</td>\n",
       "      <td>AAPL</td>\n",
       "      <td>105.010002</td>\n",
       "      <td>105.680000</td>\n",
       "      <td>104.620003</td>\n",
       "      <td>106.480003</td>\n",
       "      <td>33683100.0</td>\n",
       "    </tr>\n",
       "    <tr>\n",
       "      <th>2016-04-25</th>\n",
       "      <td>2016-04-25</td>\n",
       "      <td>AAPL</td>\n",
       "      <td>105.000000</td>\n",
       "      <td>105.080002</td>\n",
       "      <td>104.510002</td>\n",
       "      <td>105.650002</td>\n",
       "      <td>28031600.0</td>\n",
       "    </tr>\n",
       "    <tr>\n",
       "      <th>2016-04-26</th>\n",
       "      <td>2016-04-26</td>\n",
       "      <td>AAPL</td>\n",
       "      <td>103.910004</td>\n",
       "      <td>104.349998</td>\n",
       "      <td>103.910004</td>\n",
       "      <td>105.300003</td>\n",
       "      <td>56016200.0</td>\n",
       "    </tr>\n",
       "    <tr>\n",
       "      <th>2016-04-27</th>\n",
       "      <td>2016-04-27</td>\n",
       "      <td>AAPL</td>\n",
       "      <td>96.000000</td>\n",
       "      <td>97.820000</td>\n",
       "      <td>95.680000</td>\n",
       "      <td>98.709999</td>\n",
       "      <td>114602100.0</td>\n",
       "    </tr>\n",
       "    <tr>\n",
       "      <th>2016-04-28</th>\n",
       "      <td>2016-04-28</td>\n",
       "      <td>AAPL</td>\n",
       "      <td>97.610001</td>\n",
       "      <td>94.830002</td>\n",
       "      <td>94.250000</td>\n",
       "      <td>97.879997</td>\n",
       "      <td>82242700.0</td>\n",
       "    </tr>\n",
       "  </tbody>\n",
       "</table>\n",
       "</div>"
      ],
      "text/plain": [
       "                 date symbol        open       close         low        high  \\\n",
       "date                                                                           \n",
       "2016-04-22 2016-04-22   AAPL  105.010002  105.680000  104.620003  106.480003   \n",
       "2016-04-25 2016-04-25   AAPL  105.000000  105.080002  104.510002  105.650002   \n",
       "2016-04-26 2016-04-26   AAPL  103.910004  104.349998  103.910004  105.300003   \n",
       "2016-04-27 2016-04-27   AAPL   96.000000   97.820000   95.680000   98.709999   \n",
       "2016-04-28 2016-04-28   AAPL   97.610001   94.830002   94.250000   97.879997   \n",
       "\n",
       "                 volume  \n",
       "date                     \n",
       "2016-04-22   33683100.0  \n",
       "2016-04-25   28031600.0  \n",
       "2016-04-26   56016200.0  \n",
       "2016-04-27  114602100.0  \n",
       "2016-04-28   82242700.0  "
      ]
     },
     "execution_count": 145,
     "metadata": {},
     "output_type": "execute_result"
    }
   ],
   "source": [
    "data2=apple_data[len(apple_data)-176:]\n",
    "data2.head()"
   ]
  },
  {
   "cell_type": "code",
   "execution_count": 164,
   "id": "deluxe-breath",
   "metadata": {},
   "outputs": [
    {
     "name": "stdout",
     "output_type": "stream",
     "text": [
      "172\n",
      "172\n"
     ]
    }
   ],
   "source": [
    "print(len(data3))\n",
    "print(len(predicted))"
   ]
  },
  {
   "cell_type": "code",
   "execution_count": null,
   "id": "modular-income",
   "metadata": {},
   "outputs": [],
   "source": []
  }
 ],
 "metadata": {
  "kernelspec": {
   "display_name": "Python 3",
   "language": "python",
   "name": "python3"
  },
  "language_info": {
   "codemirror_mode": {
    "name": "ipython",
    "version": 3
   },
   "file_extension": ".py",
   "mimetype": "text/x-python",
   "name": "python",
   "nbconvert_exporter": "python",
   "pygments_lexer": "ipython3",
   "version": "3.9.0"
  }
 },
 "nbformat": 4,
 "nbformat_minor": 5
}
